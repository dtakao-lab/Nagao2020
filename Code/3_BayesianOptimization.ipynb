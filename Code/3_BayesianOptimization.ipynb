{
 "cells": [
  {
   "cell_type": "code",
   "execution_count": null,
   "metadata": {
    "colab": {
     "base_uri": "https://localhost:8080/",
     "height": 327
    },
    "colab_type": "code",
    "executionInfo": {
     "elapsed": 8035,
     "status": "ok",
     "timestamp": 1575952545103,
     "user": {
      "displayName": "Yukiko Nagao",
      "photoUrl": "",
      "userId": "01418131901738458659"
     },
     "user_tz": -540
    },
    "id": "BBIn3pyzwr5y",
    "outputId": "c19bffb7-7524-48b0-de81-b12554a4d0e4"
   },
   "outputs": [],
   "source": [
    "# only for google colab\n",
    "!pip install bayesian-optimization"
   ]
  },
  {
   "cell_type": "code",
   "execution_count": 1,
   "metadata": {
    "colab": {
     "base_uri": "https://localhost:8080/",
     "height": 189
    },
    "colab_type": "code",
    "executionInfo": {
     "elapsed": 22727,
     "status": "ok",
     "timestamp": 1575952524481,
     "user": {
      "displayName": "Yukiko Nagao",
      "photoUrl": "",
      "userId": "01418131901738458659"
     },
     "user_tz": -540
    },
    "id": "VjsFgqYnwBze",
    "outputId": "053864eb-a308-445b-fe79-56c49aefd3d4"
   },
   "outputs": [],
   "source": [
    "# only for google colab\n",
    "from google.colab import drive\n",
    "drive.mount('/content/drive')"
   ]
  },
  {
   "cell_type": "code",
   "execution_count": 1,
   "metadata": {
    "colab": {},
    "colab_type": "code",
    "id": "RBAv4BqeszJN"
   },
   "outputs": [
    {
     "name": "stderr",
     "output_type": "stream",
     "text": [
      "Using TensorFlow backend.\n"
     ]
    }
   ],
   "source": [
    "import numpy as np\n",
    "import pandas as pd\n",
    "import random\n",
    "import keras\n",
    "import csv\n",
    "import matplotlib.pyplot as plt\n",
    "from keras.callbacks import EarlyStopping\n",
    "from bayes_opt import BayesianOptimization\n",
    "from keras.models import Model, load_model, model_from_json\n",
    "from keras.layers import Input, Conv2D,MaxPooling2D,Dense, Flatten,Dropout\n",
    "from keras.utils import np_utils"
   ]
  },
  {
   "cell_type": "code",
   "execution_count": 2,
   "metadata": {
    "colab": {},
    "colab_type": "code",
    "id": "xj7tx7TVILcN"
   },
   "outputs": [],
   "source": [
    "path = \"X:/XXXX/XXXX\" # root directory\n",
    "groups = [\"G2\",\"notG2\"] # class name\n",
    "title=\"Results1\" # name of bayesian optimization result file w/o extension\n",
    "\n",
    "nb_ch = 1 # number of input image channels (1 or 2)\n",
    "single_ch = 0 # if number of channel is 1, choose channel #0 or 1\n",
    "\n",
    "nb_classes = len(groups)\n",
    "if(path[-1]==\"/\"):\n",
    "    path=path[:-1]"
   ]
  },
  {
   "cell_type": "code",
   "execution_count": 3,
   "metadata": {
    "colab": {
     "base_uri": "https://localhost:8080/",
     "height": 51
    },
    "colab_type": "code",
    "executionInfo": {
     "elapsed": 9864,
     "status": "ok",
     "timestamp": 1575952564955,
     "user": {
      "displayName": "Yukiko Nagao",
      "photoUrl": "",
      "userId": "01418131901738458659"
     },
     "user_tz": -540
    },
    "id": "5YEqkJ8ovpOT",
    "outputId": "1975ed05-7b30-4117-f5c9-d2e6972d6afe"
   },
   "outputs": [
    {
     "name": "stdout",
     "output_type": "stream",
     "text": [
      "(1848, 135, 135, 1)\n",
      "(113, 135, 135, 1)\n"
     ]
    }
   ],
   "source": [
    "# load training and test data sets\n",
    "x_train = np.load(path+\"/data/x_train.npy\")\n",
    "y_train = np.load(path+\"/data/y_train.npy\")\n",
    "\n",
    "x_test = np.load(path +\"/data/X_test.npy\")\n",
    "y_test = np.load(path +\"/data/Y_test.npy\")\n",
    "\n",
    "# normalize\n",
    "x_train = x_train/255\n",
    "x_test = x_test/255\n",
    "\n",
    "y_train = np_utils.to_categorical(y_train,nb_classes)\n",
    "y_test = np_utils.to_categorical(y_test,nb_classes)\n",
    "\n",
    "# shuffle sequence of data\n",
    "index=list(range(x_train.shape[0]))\n",
    "index=random.sample(index,len(index))\n",
    "x_train = x_train[index]\n",
    "y_train = y_train[index]\n",
    "\n",
    "# pick color channels\n",
    "if nb_ch == 2:\n",
    "    x_train=x_train[...,:2]\n",
    "    x_test=x_test[...,:2]\n",
    "else:\n",
    "    x_train=x_train[...,single_ch]\n",
    "    x_test=x_test[...,single_ch]\n",
    "    x_train=x_train[...,None]\n",
    "    x_test=x_test[...,None]\n",
    "\n",
    "print(x_train.shape)\n",
    "print(x_test.shape)"
   ]
  },
  {
   "cell_type": "code",
   "execution_count": 5,
   "metadata": {
    "colab": {},
    "colab_type": "code",
    "id": "7Y34SjZ6tC9k"
   },
   "outputs": [],
   "source": [
    "# architecture of CNN\n",
    "def buildModel(neurons,drop,nb_batch,hidden_layers):  \n",
    "  \n",
    "    nb_epoch=100\n",
    "\n",
    "    neurons=int(neurons)\n",
    "    hidden_layers=int(hidden_layers)\n",
    "\n",
    "    # input layer\n",
    "    inputs = Input(shape=x_train.shape[1:])\n",
    "\n",
    "    x = Conv2D(neurons, (3, 3), padding='same', activation='relu')(inputs)\n",
    "    x = MaxPooling2D((2, 2), padding='same')(x)\n",
    "\n",
    "    # hidden layers\n",
    "    if hidden_layers !=0:\n",
    "        for i in range(1,hidden_layers+1):\n",
    "            x = Conv2D(neurons*(2**i), (3, 3), padding='same', activation='relu')(x)\n",
    "            x = MaxPooling2D((2, 2), padding='same')(x)\n",
    "\n",
    "    x = Flatten()(x)\n",
    "    x = Dense(neurons*(2**(hidden_layers+1)), activation='relu')(x)\n",
    "    x = Dropout(drop)(x)\n",
    "\n",
    "    # output\n",
    "    predictions = Dense(nb_classes, activation='softmax')(x)\n",
    "\n",
    "    # modeling\n",
    "    model = Model(inputs=inputs, outputs=predictions)\n",
    "\n",
    "    model.compile(optimizer='rmsprop',\n",
    "                            loss='binary_crossentropy',\n",
    "                            metrics=['accuracy'])\n",
    "    \n",
    "    early_stopping = EarlyStopping(patience=10, verbose=1)\n",
    "\n",
    "    # learning\n",
    "    hist = model.fit(x_train, y_train, validation_split=0.2, epochs=int(nb_epoch), batch_size=int(nb_batch),callbacks=[early_stopping])\n",
    "    \n",
    "    # evaluate the model with test data\n",
    "    score = model.evaluate(x_test, y_test)\n",
    "              \n",
    "    print(\"loss : \",score[0])\n",
    "    print(\"accuracy : \",score[1])\n",
    "    \n",
    "    acc.append(score[1])\n",
    "    \n",
    "    return score[0]*(-1)"
   ]
  },
  {
   "cell_type": "code",
   "execution_count": 5,
   "metadata": {
    "colab": {},
    "colab_type": "code",
    "id": "WdhDLSNrtHnY"
   },
   "outputs": [],
   "source": [
    "# baeysian optimization\n",
    "def bayesOpt():\n",
    "    pbounds = {\n",
    "        # define the range of each parameter\n",
    "        'drop' : (0,0.9),\n",
    "        \"neurons\" : (2,50),\n",
    "        'nb_batch' : (4,100),\n",
    "        'hidden_layers' : (0,6)\n",
    "    }\n",
    "    optimizer = BayesianOptimization(f=buildModel, pbounds=pbounds)\n",
    "    \n",
    "    #init_points: number of initial points\n",
    "    #n_iter: number of iteration\n",
    "    #acq:acquire function, ucb as default\n",
    "    optimizer.maximize(init_points=10, n_iter=30, acq='ucb')\n",
    "    return optimizer"
   ]
  },
  {
   "cell_type": "code",
   "execution_count": null,
   "metadata": {
    "colab": {
     "base_uri": "https://localhost:8080/",
     "height": 1000
    },
    "colab_type": "code",
    "executionInfo": {
     "elapsed": 102586,
     "status": "ok",
     "timestamp": 1575953931640,
     "user": {
      "displayName": "Yukiko Nagao",
      "photoUrl": "",
      "userId": "01418131901738458659"
     },
     "user_tz": -540
    },
    "id": "uCTATOsutIh2",
    "outputId": "7cb0223a-bc7f-4ed3-9b5e-e86db11ca6b1"
   },
   "outputs": [],
   "source": [
    "# run bayesian optimization\n",
    "acc =[]\n",
    "result = bayesOpt()\n",
    "result.res\n",
    "result.max"
   ]
  },
  {
   "cell_type": "code",
   "execution_count": null,
   "metadata": {
    "colab": {
     "base_uri": "https://localhost:8080/",
     "height": 71
    },
    "colab_type": "code",
    "executionInfo": {
     "elapsed": 18,
     "status": "ok",
     "timestamp": 1575953931642,
     "user": {
      "displayName": "Yukiko Nagao",
      "photoUrl": "",
      "userId": "01418131901738458659"
     },
     "user_tz": -540
    },
    "id": "fUBYlzesUETg",
    "outputId": "0f379cce-0ae4-4f97-c86a-7ef17b1cb5ec"
   },
   "outputs": [],
   "source": [
    "# save results\n",
    "all_params=[]\n",
    "target=[]\n",
    "for i in range(len(result.res)):\n",
    "    all_params.append(result.res[i][\"params\"])\n",
    "    target.append(result.res[i][\"target\"])\n",
    "\n",
    "print(\"all_params:\")\n",
    "print(all_params)\n",
    "print(\"target:\")\n",
    "print(target)\n",
    "\n",
    "params_name=list(all_params[0].keys())\n",
    "\n",
    "with open(path+'/'+title+'.csv', 'w') as f:\n",
    "    label=[\"acc\",\"target(loss)\"]+params_name\n",
    "    writer = csv.writer(f)\n",
    "    writer.writerow(label)\n",
    "    for i in range(len(all_params)):      \n",
    "        eachparams=[acc[i],target[i]]+list(all_params[i].values())\n",
    "        writer.writerow(eachparams)"
   ]
  },
  {
   "cell_type": "code",
   "execution_count": null,
   "metadata": {},
   "outputs": [],
   "source": []
  }
 ],
 "metadata": {
  "accelerator": "GPU",
  "colab": {
   "collapsed_sections": [],
   "name": "BayesianOptimization.ipynb",
   "provenance": []
  },
  "kernelspec": {
   "display_name": "Python 3",
   "language": "python",
   "name": "python3"
  },
  "language_info": {
   "codemirror_mode": {
    "name": "ipython",
    "version": 3
   },
   "file_extension": ".py",
   "mimetype": "text/x-python",
   "name": "python",
   "nbconvert_exporter": "python",
   "pygments_lexer": "ipython3",
   "version": "3.7.4"
  }
 },
 "nbformat": 4,
 "nbformat_minor": 4
}
