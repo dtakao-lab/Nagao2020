{
 "cells": [
  {
   "cell_type": "code",
   "execution_count": 1,
   "metadata": {},
   "outputs": [
    {
     "name": "stderr",
     "output_type": "stream",
     "text": [
      "Using TensorFlow backend.\n"
     ]
    }
   ],
   "source": [
    "import numpy as np\n",
    "import glob\n",
    "import math \n",
    "import random\n",
    "import shutil\n",
    "import cv2\n",
    "import matplotlib.pyplot as plt\n",
    "from keras.preprocessing.image import ImageDataGenerator"
   ]
  },
  {
   "cell_type": "code",
   "execution_count": 6,
   "metadata": {},
   "outputs": [],
   "source": [
    "# parameter settings\n",
    "path = \"X:/XXXX/XXXX\" # root directory\n",
    "groups = [\"G2\", \"notG2\"] # class name\n",
    "\n",
    "if(path[-1]!=\"/\"):\n",
    "    path=path + \"/\"\n",
    "root_dir = path\n",
    "train_dir =path + \"image/train/\"\n",
    "test_dir = path + \"image/test/\"\n",
    "export_dir = path+\"/data\" # directory for data export"
   ]
  },
  {
   "cell_type": "code",
   "execution_count": 7,
   "metadata": {},
   "outputs": [
    {
     "name": "stdout",
     "output_type": "stream",
     "text": [
      "----Processing G2----\n",
      "Files detected:\n",
      "300\n",
      "----Processing notG2----\n",
      "Files detected:\n",
      "300\n",
      "----All done----\n"
     ]
    }
   ],
   "source": [
    "# split files into train and test\n",
    "\n",
    "for i, group in enumerate(groups):\n",
    "    print(\"----Processing {}----\".format(group))\n",
    "    image_dir = root_dir + \"image/\" + group # original images\n",
    "    move_train_dir = train_dir + group # destination; training data\n",
    "    move_test_dir = test_dir + group # destination; test data\n",
    "    files = list(glob.glob(image_dir+\"/*.bmp\"))\n",
    "    print(\"Files detected:\")\n",
    "    print(len(files)) \n",
    "    \n",
    "    # 20% of data will be moved to \"test\"\n",
    "    th = math.floor(len(files)*0.2)\n",
    "    random.shuffle(files)\n",
    "    for i in range(th):\n",
    "        shutil.move(files[i],move_test_dir)\n",
    "    \n",
    "    # move rest of data to \"train\"\n",
    "    files = glob.glob(image_dir+\"/*.bmp\")\n",
    "    for file in files:\n",
    "        shutil.move(file, move_train_dir)\n",
    "\n",
    "print(\"----All done----\")"
   ]
  },
  {
   "cell_type": "code",
   "execution_count": 8,
   "metadata": {},
   "outputs": [
    {
     "name": "stdout",
     "output_type": "stream",
     "text": [
      "----Processing train: G2----\n",
      "----Processing train: notG2----\n",
      "Number of files generated:\n",
      "1920\n",
      "----Processing test: G2----\n",
      "----Processing test: notG2----\n",
      "Number of files generated:\n",
      "120\n",
      "----All done----\n"
     ]
    }
   ],
   "source": [
    "# augmentation and image-to-array conversion (numpy) for CNN\n",
    "\n",
    "# augmentation\n",
    "datagen = ImageDataGenerator(rotation_range=20, # range for random rotation\n",
    "                             width_shift_range=0.1, # range for horizontal shift\n",
    "                             height_shift_range=0.1,# range for vertical shift\n",
    "                             )\n",
    "\n",
    "# run augmentation and image-to-array conversion for training data\n",
    "X = []\n",
    "Y = []\n",
    "for i,group in enumerate(groups):\n",
    "    image_dir = train_dir + group\n",
    "    files = glob.glob(image_dir+\"/*\")\n",
    "    print(\"----Processing train: {}----\".format(group))\n",
    "    for id,file in enumerate(files):\n",
    "        img = cv2.imread(file)\n",
    "        img = cv2.resize(img,dsize=(135, 135)) # optional: unify image size\n",
    "        X.append(img)\n",
    "        Y.append(i)        \n",
    "        \n",
    "        # duplicate and rotatate images by 90, 180, or 270 degrees (random),\n",
    "        # followed by ImageDataGenerator processing\n",
    "        for j in range(3): # repeat 3 times to augment images by 4 times\n",
    "            k=random.randint(1,3)\n",
    "            copy=np.rot90(img,k) # rotate image on axis=(0,1) for k times\n",
    "            copy = copy[None,...] # comvert data from 3D to 4D\n",
    "            g = datagen.flow(copy, batch_size=1)\n",
    "            batches = g.next()\n",
    "            batches=batches[0,...] # restore 3D data from 4D\n",
    "            X.append(batches)\n",
    "            Y.append(i)\n",
    "    \n",
    "X = np.array(X)\n",
    "Y = np.array(Y)\n",
    "np.save(export_dir+\"/x_train.npy\",X)\n",
    "np.save(export_dir+\"/y_train.npy\",Y)\n",
    "print(\"Number of files generated:\")\n",
    "print(len(Y))\n",
    "\n",
    "# run augmentation (optional) and image-to-array conversion for test data\n",
    "X = []\n",
    "Y = []\n",
    "for i,group in enumerate(groups):\n",
    "    image_dir = test_dir + group\n",
    "    files = glob.glob(image_dir+\"/*\")\n",
    "    print(\"----Processing test: {}----\".format(group))\n",
    "    for id,file in enumerate(files):\n",
    "        img = cv2.imread(file)\n",
    "        img = cv2.resize(img,dsize=(135, 135)) # optional: unify image size\n",
    "        X.append(img)\n",
    "        Y.append(i)        \n",
    "        \n",
    "X = np.array(X)\n",
    "Y = np.array(Y)\n",
    "np.save(export_dir+\"/X_test.npy\",X)\n",
    "np.save(export_dir+\"/Y_test.npy\",Y)\n",
    "print(\"Number of files generated:\")\n",
    "print(len(Y))\n",
    "print(\"----All done----\")"
   ]
  },
  {
   "cell_type": "code",
   "execution_count": 14,
   "metadata": {},
   "outputs": [
    {
     "name": "stdout",
     "output_type": "stream",
     "text": [
      "(113, 135, 135, 3)\n"
     ]
    }
   ],
   "source": [
    "print(X.shape)"
   ]
  },
  {
   "cell_type": "code",
   "execution_count": null,
   "metadata": {},
   "outputs": [],
   "source": []
  }
 ],
 "metadata": {
  "kernelspec": {
   "display_name": "Python 3",
   "language": "python",
   "name": "python3"
  },
  "language_info": {
   "codemirror_mode": {
    "name": "ipython",
    "version": 3
   },
   "file_extension": ".py",
   "mimetype": "text/x-python",
   "name": "python",
   "nbconvert_exporter": "python",
   "pygments_lexer": "ipython3",
   "version": "3.7.4"
  }
 },
 "nbformat": 4,
 "nbformat_minor": 4
}
