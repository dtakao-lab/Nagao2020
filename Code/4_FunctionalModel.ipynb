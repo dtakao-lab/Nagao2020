{
 "cells": [
  {
   "cell_type": "code",
   "execution_count": 1,
   "metadata": {
    "colab": {},
    "colab_type": "code",
    "id": "RBAv4BqeszJN"
   },
   "outputs": [
    {
     "name": "stderr",
     "output_type": "stream",
     "text": [
      "Using TensorFlow backend.\n"
     ]
    }
   ],
   "source": [
    "import numpy as np\n",
    "import pandas as pd\n",
    "import random\n",
    "import keras\n",
    "import csv\n",
    "import matplotlib.pyplot as plt\n",
    "from keras.callbacks import EarlyStopping\n",
    "from bayes_opt import BayesianOptimization\n",
    "from keras.models import Model, load_model, model_from_json\n",
    "from keras.layers import Input, Conv2D,MaxPooling2D,Dense, Flatten,Dropout\n",
    "from keras.utils import np_utils"
   ]
  },
  {
   "cell_type": "code",
   "execution_count": 2,
   "metadata": {
    "colab": {},
    "colab_type": "code",
    "id": "xj7tx7TVILcN"
   },
   "outputs": [],
   "source": [
    "path = \"X:/XXXX/XXXX\" # root directory\n",
    "groups = [\"G2\",\"notG2\"] # class name\n",
    "model_name = \"Model1\" # name of output model w/o extension\n",
    "\n",
    "nb_ch = 1 # number of input image channels (1 or 2)\n",
    "single_ch = 0 # if number of channel is 1, choose channel #0 or 1\n",
    "\n",
    "nb_classes = len(groups)\n",
    "if(path[-1]==\"/\"):\n",
    "    path=path[:-1]"
   ]
  },
  {
   "cell_type": "code",
   "execution_count": 3,
   "metadata": {
    "colab": {
     "base_uri": "https://localhost:8080/",
     "height": 51
    },
    "colab_type": "code",
    "executionInfo": {
     "elapsed": 9864,
     "status": "ok",
     "timestamp": 1575952564955,
     "user": {
      "displayName": "Yukiko Nagao",
      "photoUrl": "",
      "userId": "01418131901738458659"
     },
     "user_tz": -540
    },
    "id": "5YEqkJ8ovpOT",
    "outputId": "1975ed05-7b30-4117-f5c9-d2e6972d6afe"
   },
   "outputs": [
    {
     "name": "stdout",
     "output_type": "stream",
     "text": [
      "(1848, 135, 135, 1)\n",
      "(113, 135, 135, 1)\n"
     ]
    }
   ],
   "source": [
    "# load training and test data sets\n",
    "x_train = np.load(path+\"/data/x_train.npy\")\n",
    "y_train = np.load(path+\"/data/y_train.npy\")\n",
    "\n",
    "x_test = np.load(path +\"/data/X_test.npy\")\n",
    "y_test = np.load(path +\"/data/Y_test.npy\")\n",
    "\n",
    "# normalize\n",
    "x_train = x_train/255\n",
    "x_test = x_test/255\n",
    "\n",
    "y_train = np_utils.to_categorical(y_train,nb_classes)\n",
    "y_test = np_utils.to_categorical(y_test,nb_classes)\n",
    "\n",
    "# shuffle sequence of data\n",
    "index=list(range(x_train.shape[0]))\n",
    "index=random.sample(index,len(index))\n",
    "x_train = x_train[index]\n",
    "y_train = y_train[index]\n",
    "\n",
    "# pick color channels\n",
    "if nb_ch == 2:\n",
    "    x_train=x_train[...,:2]\n",
    "    x_test=x_test[...,:2]\n",
    "else:\n",
    "    x_train=x_train[...,single_ch]\n",
    "    x_test=x_test[...,single_ch]\n",
    "    x_train=x_train[...,None]\n",
    "    x_test=x_test[...,None]\n",
    "\n",
    "print(x_train.shape)\n",
    "print(x_test.shape)"
   ]
  },
  {
   "cell_type": "code",
   "execution_count": 5,
   "metadata": {
    "colab": {},
    "colab_type": "code",
    "id": "7Y34SjZ6tC9k"
   },
   "outputs": [],
   "source": [
    "# architecture of CNN\n",
    "def buildModel(neurons,drop,nb_batch,hidden_layers):  \n",
    "  \n",
    "    nb_epoch=100\n",
    "\n",
    "    neurons=int(neurons)\n",
    "    hidden_layers=int(hidden_layers)\n",
    "\n",
    "    # input layer\n",
    "    inputs = Input(shape=x_train.shape[1:])\n",
    "\n",
    "    x = Conv2D(neurons, (3, 3), padding='same', activation='relu')(inputs)\n",
    "    x = MaxPooling2D((2, 2), padding='same')(x)\n",
    "\n",
    "    # hidden layers\n",
    "    if hidden_layers !=0:\n",
    "        for i in range(1,hidden_layers+1):\n",
    "            x = Conv2D(neurons*(2**i), (3, 3), padding='same', activation='relu')(x)\n",
    "            x = MaxPooling2D((2, 2), padding='same')(x)\n",
    "\n",
    "    x = Flatten()(x)\n",
    "    x = Dense(neurons*(2**(hidden_layers+1)), activation='relu')(x)\n",
    "    x = Dropout(drop)(x)\n",
    "\n",
    "    # output\n",
    "    predictions = Dense(nb_classes, activation='softmax')(x)\n",
    "\n",
    "    # modeling\n",
    "    model = Model(inputs=inputs, outputs=predictions)\n",
    "\n",
    "    model.compile(optimizer='rmsprop',\n",
    "                            loss='binary_crossentropy',\n",
    "                            metrics=['accuracy'])\n",
    "    \n",
    "    early_stopping = EarlyStopping(patience=10, verbose=1)\n",
    "\n",
    "    # learning\n",
    "    hist = model.fit(x_train, y_train, validation_split=0.2, epochs=int(nb_epoch), batch_size=int(nb_batch),callbacks=[early_stopping])\n",
    "    \n",
    "    # evaluate the model with test data\n",
    "    score = model.evaluate(x_test, y_test)\n",
    "              \n",
    "    print(\"loss : \",score[0])\n",
    "    print(\"accuracy : \",score[1])\n",
    "    \n",
    "    acc.append(score[1])\n",
    "    \n",
    "    return score[0]*(-1)"
   ]
  },
  {
   "cell_type": "code",
   "execution_count": 5,
   "metadata": {
    "colab": {},
    "colab_type": "code",
    "id": "7Y34SjZ6tC9k"
   },
   "outputs": [],
   "source": [
    "# functional model\n",
    "\n",
    "inputs = Input(shape=x_train.shape[1:])\n",
    "\n",
    "# hyperparameters\n",
    "drop = 0.3 # dropout rate\n",
    "hidden_layers = 2 # number of hidden convolutional/max pooling layer sets\n",
    "batch = 89 # batch size\n",
    "neurons = 28 # number of convolution kernels\n",
    "\n",
    "x = Conv2D(neurons, (3, 3), padding='same', activation='relu')(inputs)\n",
    "x = MaxPooling2D((2, 2), padding='same')(x)\n",
    "\n",
    "if hidden_layers !=0:\n",
    "    for i in range(1,hidden_layers+1):\n",
    "        x = Conv2D(neurons*(2**i), (3, 3), padding='same', activation='relu')(x)\n",
    "        x = MaxPooling2D((2, 2), padding='same')(x)\n",
    "\n",
    "x = Flatten()(x)\n",
    "x = Dense(neurons*(2**(hidden_layers+1)), activation='relu')(x)\n",
    "x = Dropout(drop)(x)\n",
    "\n",
    "predictions = Dense(nb_classes, activation='softmax')(x)\n",
    "\n",
    "model = Model(inputs=inputs, outputs=predictions)\n",
    "model.compile(optimizer='rmsprop',\n",
    "              loss='binary_crossentropy',\n",
    "              metrics=['accuracy'])\n",
    "display(model.summary())\n",
    "\n",
    "early_stopping = EarlyStopping(patience=5, verbose=1)\n",
    "\n",
    "# learning\n",
    "hist = model.fit(x_train, y_train, validation_split=0.2, epochs=100, batch_size=batch,callbacks=[early_stopping])\n",
    "\n",
    "# evaluated accuracy for test data\n",
    "print(model.evaluate(x_test, y_test))\n",
    "\n",
    "# make graphs\n",
    "fig, (axL, axR) = plt.subplots(ncols=2,figsize=(16,8))\n",
    "acc = hist.history['acc'] # accuracy for training data\n",
    "val_acc = hist.history['val_acc'] # accuracy for validation data\n",
    "loss = hist.history['loss'] # loss for training data\n",
    "val_loss = hist.history['val_loss'] # loss for validation\n",
    "plt.rcParams[\"font.size\"] = 16\n",
    "axL.plot(acc,label='Training acc')\n",
    "axL.plot(val_acc,label='Validation acc')\n",
    "axL.set_title('Accuracy')\n",
    "axL.legend(loc='best') # position of legend\n",
    "axR.plot(loss,label='Training loss')\n",
    "axR.plot(val_loss,label='Validation loss')\n",
    "axR.set_title('Loss')\n",
    "axR.legend(loc='best')\n",
    "plt.show()"
   ]
  },
  {
   "cell_type": "code",
   "execution_count": null,
   "metadata": {},
   "outputs": [],
   "source": [
    "# save model and parameters\n",
    "\n",
    "model_json = model.to_json()\n",
    "open(path + \"/model/\"+model_name+\".json\", \"w\").write(model_json)\n",
    "hdf5_file = path + \"/model/\"+model_name+\".hdf5\"\n",
    "model.save_weights(hdf5_file)\n",
    "\n",
    "curve = []\n",
    "curve.append([acc,val_acc,loss,val_loss])\n",
    "curve = np.array(curve[0])\n",
    "curve = curve.T\n",
    "curve_df = pd.DataFrame(curve, columns=[\"train_acc\",\"val_acc\",\"train_loss\",\"val_loss\"])\n",
    "curve_df.to_csv(path + \"/model/\" + model_name + \"_curve.csv\")\n",
    "print(curve_df)\n",
    "loss_fin = model.evaluate(x_test,y_test)[0]\n",
    "acc_fin = model.evaluate(x_test,y_test)[1]\n",
    "fin_df = pd.DataFrame(np.array([acc_fin,loss_fin]), index=[\"test_acc\",\"test_loss\"])\n",
    "fin_df.to_csv(path + \"/model/\" + model_name + \"_test-acc.csv\")\n",
    "print(fin_df)"
   ]
  },
  {
   "cell_type": "code",
   "execution_count": null,
   "metadata": {},
   "outputs": [],
   "source": [
    "# load saved model\n",
    "\n",
    "with open(path+\"/model/\"+model_name+\".json\", \"r\") as f:\n",
    "    model = model_from_json(f.read())\n",
    "model.load_weights(path+\"/model/\"+model_name+\".hdf5\")\n",
    "model.summary()"
   ]
  }
 ],
 "metadata": {
  "kernelspec": {
   "display_name": "Python 3",
   "language": "python",
   "name": "python3"
  },
  "language_info": {
   "codemirror_mode": {
    "name": "ipython",
    "version": 3
   },
   "file_extension": ".py",
   "mimetype": "text/x-python",
   "name": "python",
   "nbconvert_exporter": "python",
   "pygments_lexer": "ipython3",
   "version": "3.7.4"
  }
 },
 "nbformat": 4,
 "nbformat_minor": 4
}
